{
 "cells": [
  {
   "cell_type": "code",
   "execution_count": 62,
   "metadata": {},
   "outputs": [],
   "source": [
    "import torch\n",
    "import torch.nn as nn\n",
    "import numpy as np\n",
    "import pandas as pd\n",
    "import matplotlib.pyplot as plt\n",
    " \n"
   ]
  },
  {
   "cell_type": "code",
   "execution_count": 63,
   "metadata": {},
   "outputs": [],
   "source": [
    "#only pick the 9th column\n",
    "df = pd.read_csv('test.csv', usecols=[9])"
   ]
  },
  {
   "cell_type": "code",
   "execution_count": 64,
   "metadata": {},
   "outputs": [],
   "source": [
    "# drop NaN values\n",
    "df = df.dropna()\n"
   ]
  },
  {
   "cell_type": "code",
   "execution_count": 65,
   "metadata": {},
   "outputs": [
    {
     "data": {
      "text/html": [
       "<div>\n",
       "<style scoped>\n",
       "    .dataframe tbody tr th:only-of-type {\n",
       "        vertical-align: middle;\n",
       "    }\n",
       "\n",
       "    .dataframe tbody tr th {\n",
       "        vertical-align: top;\n",
       "    }\n",
       "\n",
       "    .dataframe thead th {\n",
       "        text-align: right;\n",
       "    }\n",
       "</style>\n",
       "<table border=\"1\" class=\"dataframe\">\n",
       "  <thead>\n",
       "    <tr style=\"text-align: right;\">\n",
       "      <th></th>\n",
       "      <th>4647</th>\n",
       "    </tr>\n",
       "  </thead>\n",
       "  <tbody>\n",
       "    <tr>\n",
       "      <th>0</th>\n",
       "      <td>4666.0</td>\n",
       "    </tr>\n",
       "    <tr>\n",
       "      <th>1</th>\n",
       "      <td>4675.0</td>\n",
       "    </tr>\n",
       "    <tr>\n",
       "      <th>2</th>\n",
       "      <td>4675.0</td>\n",
       "    </tr>\n",
       "    <tr>\n",
       "      <th>3</th>\n",
       "      <td>4703.0</td>\n",
       "    </tr>\n",
       "    <tr>\n",
       "      <th>4</th>\n",
       "      <td>4759.0</td>\n",
       "    </tr>\n",
       "    <tr>\n",
       "      <th>...</th>\n",
       "      <td>...</td>\n",
       "    </tr>\n",
       "    <tr>\n",
       "      <th>7320</th>\n",
       "      <td>40059.0</td>\n",
       "    </tr>\n",
       "    <tr>\n",
       "      <th>7321</th>\n",
       "      <td>40648.0</td>\n",
       "    </tr>\n",
       "    <tr>\n",
       "      <th>7322</th>\n",
       "      <td>41080.0</td>\n",
       "    </tr>\n",
       "    <tr>\n",
       "      <th>7323</th>\n",
       "      <td>41678.0</td>\n",
       "    </tr>\n",
       "    <tr>\n",
       "      <th>7324</th>\n",
       "      <td>41235.0</td>\n",
       "    </tr>\n",
       "  </tbody>\n",
       "</table>\n",
       "<p>7325 rows × 1 columns</p>\n",
       "</div>"
      ],
      "text/plain": [
       "         4647\n",
       "0      4666.0\n",
       "1      4675.0\n",
       "2      4675.0\n",
       "3      4703.0\n",
       "4      4759.0\n",
       "...       ...\n",
       "7320  40059.0\n",
       "7321  40648.0\n",
       "7322  41080.0\n",
       "7323  41678.0\n",
       "7324  41235.0\n",
       "\n",
       "[7325 rows x 1 columns]"
      ]
     },
     "execution_count": 65,
     "metadata": {},
     "output_type": "execute_result"
    }
   ],
   "source": [
    "df"
   ]
  },
  {
   "cell_type": "code",
   "execution_count": 66,
   "metadata": {},
   "outputs": [
    {
     "data": {
      "text/plain": [
       "<AxesSubplot: >"
      ]
     },
     "execution_count": 66,
     "metadata": {},
     "output_type": "execute_result"
    },
    {
     "data": {
      "image/png": "[encoded data removed]",
      "text/plain": [
       "<Figure size 640x480 with 1 Axes>"
      ]
     },
     "metadata": {},
     "output_type": "display_data"
    }
   ],
   "source": [
    "df.plot()"
   ]
  },
  {
   "cell_type": "code",
   "execution_count": 67,
   "metadata": {},
   "outputs": [
    {
     "data": {
      "text/html": [
       "<div>\n",
       "<style scoped>\n",
       "    .dataframe tbody tr th:only-of-type {\n",
       "        vertical-align: middle;\n",
       "    }\n",
       "\n",
       "    .dataframe tbody tr th {\n",
       "        vertical-align: top;\n",
       "    }\n",
       "\n",
       "    .dataframe thead th {\n",
       "        text-align: right;\n",
       "    }\n",
       "</style>\n",
       "<table border=\"1\" class=\"dataframe\">\n",
       "  <thead>\n",
       "    <tr style=\"text-align: right;\">\n",
       "      <th></th>\n",
       "      <th>4647</th>\n",
       "    </tr>\n",
       "  </thead>\n",
       "  <tbody>\n",
       "    <tr>\n",
       "      <th>0</th>\n",
       "      <td>4666.0</td>\n",
       "    </tr>\n",
       "    <tr>\n",
       "      <th>1</th>\n",
       "      <td>4675.0</td>\n",
       "    </tr>\n",
       "    <tr>\n",
       "      <th>2</th>\n",
       "      <td>4675.0</td>\n",
       "    </tr>\n",
       "    <tr>\n",
       "      <th>3</th>\n",
       "      <td>4703.0</td>\n",
       "    </tr>\n",
       "    <tr>\n",
       "      <th>4</th>\n",
       "      <td>4759.0</td>\n",
       "    </tr>\n",
       "  </tbody>\n",
       "</table>\n",
       "</div>"
      ],
      "text/plain": [
       "     4647\n",
       "0  4666.0\n",
       "1  4675.0\n",
       "2  4675.0\n",
       "3  4703.0\n",
       "4  4759.0"
      ]
     },
     "execution_count": 67,
     "metadata": {},
     "output_type": "execute_result"
    }
   ],
   "source": [
    "df.head()"
   ]
  },
  {
   "cell_type": "code",
   "execution_count": 68,
   "metadata": {},
   "outputs": [],
   "source": [
    "#type of data\n",
    "y = df.values.astype(float)"
   ]
  },
  {
   "cell_type": "code",
   "execution_count": 69,
   "metadata": {},
   "outputs": [
    {
     "data": {
      "text/plain": [
       "array([[ 4666.],\n",
       "       [ 4675.],\n",
       "       [ 4675.],\n",
       "       ...,\n",
       "       [41080.],\n",
       "       [41678.],\n",
       "       [41235.]])"
      ]
     },
     "execution_count": 69,
     "metadata": {},
     "output_type": "execute_result"
    }
   ],
   "source": [
    "y"
   ]
  },
  {
   "cell_type": "code",
   "execution_count": 70,
   "metadata": {},
   "outputs": [],
   "source": [
    "train_size = int(len(df)*0.93) # 93% of data for training, 7% for testing"
   ]
  },
  {
   "cell_type": "code",
   "execution_count": 71,
   "metadata": {},
   "outputs": [],
   "source": [
    "train_data = y[:train_size] # all data except the train_size\n",
    "val_data = y[train_size:] # the last 7% of the data"
   ]
  },
  {
   "cell_type": "code",
   "execution_count": 72,
   "metadata": {},
   "outputs": [
    {
     "data": {
      "text/plain": [
       "array([[ 4666.],\n",
       "       [ 4675.],\n",
       "       [ 4675.],\n",
       "       ...,\n",
       "       [37865.],\n",
       "       [38389.],\n",
       "       [38424.]])"
      ]
     },
     "execution_count": 72,
     "metadata": {},
     "output_type": "execute_result"
    }
   ],
   "source": [
    "train_data"
   ]
  },
  {
   "cell_type": "code",
   "execution_count": 126,
   "metadata": {},
   "outputs": [
    {
     "data": {
      "text/plain": [
       "array([[4666.],\n",
       "       [4675.],\n",
       "       [4675.],\n",
       "       [4703.],\n",
       "       [4759.],\n",
       "       [4750.],\n",
       "       [4734.],\n",
       "       [4722.],\n",
       "       [4741.],\n",
       "       [4741.],\n",
       "       [4747.],\n",
       "       [4734.],\n",
       "       [4747.],\n",
       "       [4738.],\n",
       "       [4719.],\n",
       "       [4719.],\n",
       "       [4731.],\n",
       "       [4775.],\n",
       "       [4788.],\n",
       "       [4822.],\n",
       "       [4797.],\n",
       "       [4828.],\n",
       "       [4806.],\n",
       "       [4697.],\n",
       "       [4719.],\n",
       "       [4722.],\n",
       "       [4741.],\n",
       "       [4700.],\n",
       "       [4716.],\n",
       "       [4722.],\n",
       "       [4747.],\n",
       "       [4744.],\n",
       "       [4716.],\n",
       "       [4688.],\n",
       "       [4734.],\n",
       "       [4722.],\n",
       "       [4659.],\n",
       "       [4681.],\n",
       "       [4681.],\n",
       "       [4663.],\n",
       "       [4669.],\n",
       "       [4656.],\n",
       "       [4669.],\n",
       "       [4694.],\n",
       "       [4675.],\n",
       "       [4697.],\n",
       "       [4659.],\n",
       "       [4684.],\n",
       "       [4691.],\n",
       "       [4688.],\n",
       "       [4725.],\n",
       "       [4725.],\n",
       "       [4697.],\n",
       "       [4684.],\n",
       "       [4697.],\n",
       "       [4694.],\n",
       "       [4638.],\n",
       "       [4594.],\n",
       "       [4600.],\n",
       "       [4509.],\n",
       "       [4447.],\n",
       "       [4459.],\n",
       "       [4391.],\n",
       "       [4481.],\n",
       "       [4481.],\n",
       "       [4503.],\n",
       "       [4469.],\n",
       "       [4488.],\n",
       "       [4481.],\n",
       "       [4458.],\n",
       "       [4459.],\n",
       "       [4459.],\n",
       "       [4430.],\n",
       "       [4436.],\n",
       "       [4431.],\n",
       "       [4491.],\n",
       "       [4486.],\n",
       "       [4533.],\n",
       "       [4528.],\n",
       "       [4495.],\n",
       "       [4509.],\n",
       "       [4538.],\n",
       "       [4533.],\n",
       "       [4525.],\n",
       "       [4519.],\n",
       "       [4475.],\n",
       "       [4436.],\n",
       "       [4470.],\n",
       "       [4430.],\n",
       "       [4452.],\n",
       "       [4452.],\n",
       "       [4453.],\n",
       "       [4519.],\n",
       "       [4552.],\n",
       "       [4573.],\n",
       "       [4556.],\n",
       "       [4548.],\n",
       "       [4567.],\n",
       "       [4580.],\n",
       "       [4583.],\n",
       "       [4588.],\n",
       "       [4581.],\n",
       "       [4602.],\n",
       "       [4597.],\n",
       "       [4623.],\n",
       "       [4622.],\n",
       "       [4616.],\n",
       "       [4578.],\n",
       "       [4603.],\n",
       "       [4611.],\n",
       "       [4617.],\n",
       "       [4653.],\n",
       "       [4634.],\n",
       "       [4644.],\n",
       "       [4588.],\n",
       "       [4548.],\n",
       "       [4509.],\n",
       "       [4527.],\n",
       "       [4500.],\n",
       "       [4406.],\n",
       "       [4483.],\n",
       "       [4461.],\n",
       "       [4475.],\n",
       "       [4447.],\n",
       "       [4456.],\n",
       "       [4480.],\n",
       "       [4473.],\n",
       "       [4492.],\n",
       "       [4491.],\n",
       "       [4475.],\n",
       "       [4481.],\n",
       "       [4489.],\n",
       "       [4538.],\n",
       "       [4539.],\n",
       "       [4547.],\n",
       "       [4538.],\n",
       "       [4517.],\n",
       "       [4527.],\n",
       "       [4534.],\n",
       "       [4541.]])"
      ]
     },
     "execution_count": 126,
     "metadata": {},
     "output_type": "execute_result"
    }
   ],
   "source": [
    "# define the block size, \n",
    "block_size = 140 # 100 days of data to predict the next day\n",
    "batch_size = 2 # number of samples in a batch for training the model\n",
    "train_data[:block_size]"
   ]
  },
  {
   "cell_type": "code",
   "execution_count": 127,
   "metadata": {},
   "outputs": [
    {
     "data": {
      "text/html": [
       "<style>#sk-container-id-10 {color: black;background-color: white;}#sk-container-id-10 pre{padding: 0;}#sk-container-id-10 div.sk-toggleable {background-color: white;}#sk-container-id-10 label.sk-toggleable__label {cursor: pointer;display: block;width: 100%;margin-bottom: 0;padding: 0.3em;box-sizing: border-box;text-align: center;}#sk-container-id-10 label.sk-toggleable__label-arrow:before {content: \"▸\";float: left;margin-right: 0.25em;color: #696969;}#sk-container-id-10 label.sk-toggleable__label-arrow:hover:before {color: black;}#sk-container-id-10 div.sk-estimator:hover label.sk-toggleable__label-arrow:before {color: black;}#sk-container-id-10 div.sk-toggleable__content {max-height: 0;max-width: 0;overflow: hidden;text-align: left;background-color: #f0f8ff;}#sk-container-id-10 div.sk-toggleable__content pre {margin: 0.2em;color: black;border-radius: 0.25em;background-color: #f0f8ff;}#sk-container-id-10 input.sk-toggleable__control:checked~div.sk-toggleable__content {max-height: 200px;max-width: 100%;overflow: auto;}#sk-container-id-10 input.sk-toggleable__control:checked~label.sk-toggleable__label-arrow:before {content: \"▾\";}#sk-container-id-10 div.sk-estimator input.sk-toggleable__control:checked~label.sk-toggleable__label {background-color: #d4ebff;}#sk-container-id-10 div.sk-label input.sk-toggleable__control:checked~label.sk-toggleable__label {background-color: #d4ebff;}#sk-container-id-10 input.sk-hidden--visually {border: 0;clip: rect(1px 1px 1px 1px);clip: rect(1px, 1px, 1px, 1px);height: 1px;margin: -1px;overflow: hidden;padding: 0;position: absolute;width: 1px;}#sk-container-id-10 div.sk-estimator {font-family: monospace;background-color: #f0f8ff;border: 1px dotted black;border-radius: 0.25em;box-sizing: border-box;margin-bottom: 0.5em;}#sk-container-id-10 div.sk-estimator:hover {background-color: #d4ebff;}#sk-container-id-10 div.sk-parallel-item::after {content: \"\";width: 100%;border-bottom: 1px solid gray;flex-grow: 1;}#sk-container-id-10 div.sk-label:hover label.sk-toggleable__label {background-color: #d4ebff;}#sk-container-id-10 div.sk-serial::before {content: \"\";position: absolute;border-left: 1px solid gray;box-sizing: border-box;top: 0;bottom: 0;left: 50%;z-index: 0;}#sk-container-id-10 div.sk-serial {display: flex;flex-direction: column;align-items: center;background-color: white;padding-right: 0.2em;padding-left: 0.2em;position: relative;}#sk-container-id-10 div.sk-item {position: relative;z-index: 1;}#sk-container-id-10 div.sk-parallel {display: flex;align-items: stretch;justify-content: center;background-color: white;position: relative;}#sk-container-id-10 div.sk-item::before, #sk-container-id-10 div.sk-parallel-item::before {content: \"\";position: absolute;border-left: 1px solid gray;box-sizing: border-box;top: 0;bottom: 0;left: 50%;z-index: -1;}#sk-container-id-10 div.sk-parallel-item {display: flex;flex-direction: column;z-index: 1;position: relative;background-color: white;}#sk-container-id-10 div.sk-parallel-item:first-child::after {align-self: flex-end;width: 50%;}#sk-container-id-10 div.sk-parallel-item:last-child::after {align-self: flex-start;width: 50%;}#sk-container-id-10 div.sk-parallel-item:only-child::after {width: 0;}#sk-container-id-10 div.sk-dashed-wrapped {border: 1px dashed gray;margin: 0 0.4em 0.5em 0.4em;box-sizing: border-box;padding-bottom: 0.4em;background-color: white;}#sk-container-id-10 div.sk-label label {font-family: monospace;font-weight: bold;display: inline-block;line-height: 1.2em;}#sk-container-id-10 div.sk-label-container {text-align: center;}#sk-container-id-10 div.sk-container {/* jupyter's `normalize.less` sets `[hidden] { display: none; }` but bootstrap.min.css set `[hidden] { display: none !important; }` so we also need the `!important` here to be able to override the default hidden behavior on the sphinx rendered scikit-learn.org. See: https://github.com/scikit-learn/scikit-learn/issues/21755 */display: inline-block !important;position: relative;}#sk-container-id-10 div.sk-text-repr-fallback {display: none;}</style><div id=\"sk-container-id-10\" class=\"sk-top-container\"><div class=\"sk-text-repr-fallback\"><pre>MinMaxScaler(feature_range=(-1, 1))</pre><b>In a Jupyter environment, please rerun this cell to show the HTML representation or trust the notebook. <br />On GitHub, the HTML representation is unable to render, please try loading this page with nbviewer.org.</b></div><div class=\"sk-container\" hidden><div class=\"sk-item\"><div class=\"sk-estimator sk-toggleable\"><input class=\"sk-toggleable__control sk-hidden--visually\" id=\"sk-estimator-id-10\" type=\"checkbox\" checked><label for=\"sk-estimator-id-10\" class=\"sk-toggleable__label sk-toggleable__label-arrow\">MinMaxScaler</label><div class=\"sk-toggleable__content\"><pre>MinMaxScaler(feature_range=(-1, 1))</pre></div></div></div></div></div>"
      ],
      "text/plain": [
       "MinMaxScaler(feature_range=(-1, 1))"
      ]
     },
     "execution_count": 127,
     "metadata": {},
     "output_type": "execute_result"
    }
   ],
   "source": [
    "from sklearn.preprocessing import MinMaxScaler\n",
    "# define the scaler and fit it to the training data\n",
    "scaler = MinMaxScaler(feature_range=(-1, 1))\n",
    "scaler.fit(train_data.reshape(-1, 1))\n"
   ]
  },
  {
   "cell_type": "code",
   "execution_count": 128,
   "metadata": {},
   "outputs": [],
   "source": [
    "\n",
    "def get_batch(split):\n",
    "    # Select the appropriate dataset based on the split\n",
    "    data = train_data if split == 'train' else val_data\n",
    "    \n",
    "    # Generate a random index for each batch\n",
    "    ix = np.random.randint(0, len(data) - block_size, batch_size)\n",
    "    \n",
    "    # Extract the blocks of data for each batch\n",
    "    x = [data[i:i+block_size] for i in ix]\n",
    "    y = [data[i+1:i+block_size+1] for i in ix]\n",
    "    \n",
    "    # Normalize each block of x and y using the scaler fitted to the training data\n",
    "    x_norm = [scaler.transform(block.reshape(-1, 1)).reshape(-1) for block in x]\n",
    "    y_norm = [scaler.transform(block.reshape(-1, 1)).reshape(-1) for block in y]\n",
    "\n",
    "    # Convert x and y to tensors\n",
    "    x = torch.tensor(x_norm, dtype=torch.float32)\n",
    "    y = torch.tensor(y_norm, dtype=torch.float32)\n",
    "    \n",
    "    return x, y\n",
    "\n",
    "   \n",
    "# get a batch of training data\n",
    "x, y = get_batch('train')\n",
    "\n",
    "\n"
   ]
  },
  {
   "cell_type": "code",
   "execution_count": 129,
   "metadata": {},
   "outputs": [
    {
     "name": "stdout",
     "output_type": "stream",
     "text": [
      "inputs\n",
      "torch.Size([2, 140])\n",
      "tensor([[-9.8090e-01, -9.8055e-01, -9.7908e-01, -9.7926e-01, -9.8090e-01,\n",
      "         -9.8255e-01, -9.7984e-01, -9.8055e-01, -9.8425e-01, -9.8296e-01,\n",
      "         -9.8296e-01, -9.8402e-01, -9.8366e-01, -9.8443e-01, -9.8366e-01,\n",
      "         -9.8219e-01, -9.8331e-01, -9.8202e-01, -9.8425e-01, -9.8278e-01,\n",
      "         -9.8237e-01, -9.8255e-01, -9.8037e-01, -9.8037e-01, -9.8202e-01,\n",
      "         -9.8278e-01, -9.8202e-01, -9.8219e-01, -9.8548e-01, -9.8807e-01,\n",
      "         -9.8772e-01, -9.9307e-01, -9.9671e-01, -9.9600e-01, -1.0000e+00,\n",
      "         -9.9471e-01, -9.9471e-01, -9.9342e-01, -9.9542e-01, -9.9430e-01,\n",
      "         -9.9471e-01, -9.9606e-01, -9.9600e-01, -9.9600e-01, -9.9771e-01,\n",
      "         -9.9736e-01, -9.9765e-01, -9.9412e-01, -9.9442e-01, -9.9166e-01,\n",
      "         -9.9195e-01, -9.9389e-01, -9.9307e-01, -9.9136e-01, -9.9166e-01,\n",
      "         -9.9213e-01, -9.9248e-01, -9.9506e-01, -9.9736e-01, -9.9536e-01,\n",
      "         -9.9771e-01, -9.9642e-01, -9.9642e-01, -9.9636e-01, -9.9248e-01,\n",
      "         -9.9054e-01, -9.8930e-01, -9.9030e-01, -9.9077e-01, -9.8966e-01,\n",
      "         -9.8889e-01, -9.8872e-01, -9.8842e-01, -9.8883e-01, -9.8760e-01,\n",
      "         -9.8789e-01, -9.8637e-01, -9.8642e-01, -9.8678e-01, -9.8901e-01,\n",
      "         -9.8754e-01, -9.8707e-01, -9.8672e-01, -9.8460e-01, -9.8572e-01,\n",
      "         -9.8513e-01, -9.8842e-01, -9.9077e-01, -9.9307e-01, -9.9201e-01,\n",
      "         -9.9359e-01, -9.9912e-01, -9.9459e-01, -9.9589e-01, -9.9506e-01,\n",
      "         -9.9671e-01, -9.9618e-01, -9.9477e-01, -9.9518e-01, -9.9406e-01,\n",
      "         -9.9412e-01, -9.9506e-01, -9.9471e-01, -9.9424e-01, -9.9136e-01,\n",
      "         -9.9130e-01, -9.9083e-01, -9.9136e-01, -9.9260e-01, -9.9201e-01,\n",
      "         -9.9160e-01, -9.9119e-01, -9.9148e-01, -9.9148e-01, -9.9095e-01,\n",
      "         -9.8825e-01, -9.8695e-01, -9.8660e-01, -9.8654e-01, -9.8807e-01,\n",
      "         -9.8901e-01, -9.8836e-01, -9.8789e-01, -9.8690e-01, -9.8789e-01,\n",
      "         -9.8578e-01, -9.8590e-01, -9.8396e-01, -9.8413e-01, -9.8507e-01,\n",
      "         -9.8525e-01, -9.8548e-01, -9.8396e-01, -9.8102e-01, -9.8172e-01,\n",
      "         -9.7779e-01, -9.7796e-01, -9.7726e-01, -9.7796e-01, -9.7890e-01],\n",
      "        [-4.6719e-03,  1.3311e-02, -4.9658e-03, -5.4359e-03,  7.0814e-03,\n",
      "         -4.1430e-03, -3.9080e-03, -3.8492e-03,  1.0255e-02,  1.8247e-02,\n",
      "          1.1254e-02,  9.6965e-04,  8.7856e-03,  1.5074e-02,  3.5554e-03,\n",
      "          1.3076e-02,  1.0020e-02,  3.5554e-03,  9.1382e-03,  1.0020e-02,\n",
      "          5.6710e-03,  1.2253e-02, -3.7904e-03, -2.1450e-03, -6.2586e-03,\n",
      "         -5.6122e-03, -9.9609e-03, -2.1450e-03,  1.2047e-03, -1.1459e-03,\n",
      "         -5.5828e-04,  4.7895e-03,  5.5828e-04, -1.9687e-03, -5.3184e-03,\n",
      "         -9.0207e-03, -8.9619e-03, -1.8012e-02, -2.5475e-02, -3.1117e-02,\n",
      "         -3.2468e-02, -5.4359e-03,  2.0568e-04,  1.3546e-02,  1.6719e-02,\n",
      "          1.3781e-02,  1.4780e-02,  2.4711e-02,  2.2302e-02,  2.8884e-02,\n",
      "          2.6004e-02,  3.5701e-02,  3.8228e-02,  3.8933e-02,  4.3752e-02,\n",
      "          3.7640e-02,  4.0167e-02,  3.7052e-02,  3.2292e-02,  3.2939e-02,\n",
      "          4.0696e-02,  4.4809e-02,  6.1852e-02,  6.5084e-02,  7.3076e-02,\n",
      "          7.1548e-02,  8.0422e-02,  6.9374e-02,  7.4839e-02,  6.4437e-02,\n",
      "          6.7317e-02,  7.2430e-02,  6.8727e-02,  6.6436e-02,  6.8375e-02,\n",
      "          7.1666e-02,  6.0676e-02,  6.0383e-02,  5.5564e-02,  6.5613e-02,\n",
      "          7.3487e-02,  7.2430e-02,  7.7190e-02,  7.2782e-02,  7.2782e-02,\n",
      "          7.6543e-02,  7.3194e-02,  7.6250e-02,  7.1548e-02,  7.4487e-02,\n",
      "          6.9550e-02,  7.4428e-02,  7.0961e-02,  7.9482e-02,  9.1059e-02,\n",
      "          8.9648e-02,  8.7533e-02,  7.9188e-02,  7.9070e-02,  7.9599e-02,\n",
      "          8.0481e-02,  8.9707e-02,  8.7298e-02,  8.7356e-02,  8.9119e-02,\n",
      "          9.7112e-02,  1.0246e-01,  1.0986e-01,  1.1533e-01,  1.2250e-01,\n",
      "          1.2132e-01,  1.2350e-01,  1.3173e-01,  1.3049e-01,  1.3143e-01,\n",
      "          1.3319e-01,  1.3537e-01,  1.3161e-01,  1.5106e-01,  1.4219e-01,\n",
      "          1.4307e-01,  1.3889e-01,  1.3472e-01,  1.3214e-01,  1.3390e-01,\n",
      "          1.3878e-01,  1.3948e-01,  1.3413e-01,  1.4618e-01,  1.4342e-01,\n",
      "          1.3490e-01,  1.3337e-01,  1.1551e-01,  1.1874e-01,  1.1727e-01,\n",
      "          1.1627e-01,  1.1486e-01,  1.2485e-01,  1.2614e-01,  1.3055e-01]])\n",
      "targets\n",
      "torch.Size([2, 140])\n",
      "tensor([[-9.8055e-01, -9.7908e-01, -9.7926e-01, -9.8090e-01, -9.8255e-01,\n",
      "         -9.7984e-01, -9.8055e-01, -9.8425e-01, -9.8296e-01, -9.8296e-01,\n",
      "         -9.8402e-01, -9.8366e-01, -9.8443e-01, -9.8366e-01, -9.8219e-01,\n",
      "         -9.8331e-01, -9.8202e-01, -9.8425e-01, -9.8278e-01, -9.8237e-01,\n",
      "         -9.8255e-01, -9.8037e-01, -9.8037e-01, -9.8202e-01, -9.8278e-01,\n",
      "         -9.8202e-01, -9.8219e-01, -9.8548e-01, -9.8807e-01, -9.8772e-01,\n",
      "         -9.9307e-01, -9.9671e-01, -9.9600e-01, -1.0000e+00, -9.9471e-01,\n",
      "         -9.9471e-01, -9.9342e-01, -9.9542e-01, -9.9430e-01, -9.9471e-01,\n",
      "         -9.9606e-01, -9.9600e-01, -9.9600e-01, -9.9771e-01, -9.9736e-01,\n",
      "         -9.9765e-01, -9.9412e-01, -9.9442e-01, -9.9166e-01, -9.9195e-01,\n",
      "         -9.9389e-01, -9.9307e-01, -9.9136e-01, -9.9166e-01, -9.9213e-01,\n",
      "         -9.9248e-01, -9.9506e-01, -9.9736e-01, -9.9536e-01, -9.9771e-01,\n",
      "         -9.9642e-01, -9.9642e-01, -9.9636e-01, -9.9248e-01, -9.9054e-01,\n",
      "         -9.8930e-01, -9.9030e-01, -9.9077e-01, -9.8966e-01, -9.8889e-01,\n",
      "         -9.8872e-01, -9.8842e-01, -9.8883e-01, -9.8760e-01, -9.8789e-01,\n",
      "         -9.8637e-01, -9.8642e-01, -9.8678e-01, -9.8901e-01, -9.8754e-01,\n",
      "         -9.8707e-01, -9.8672e-01, -9.8460e-01, -9.8572e-01, -9.8513e-01,\n",
      "         -9.8842e-01, -9.9077e-01, -9.9307e-01, -9.9201e-01, -9.9359e-01,\n",
      "         -9.9912e-01, -9.9459e-01, -9.9589e-01, -9.9506e-01, -9.9671e-01,\n",
      "         -9.9618e-01, -9.9477e-01, -9.9518e-01, -9.9406e-01, -9.9412e-01,\n",
      "         -9.9506e-01, -9.9471e-01, -9.9424e-01, -9.9136e-01, -9.9130e-01,\n",
      "         -9.9083e-01, -9.9136e-01, -9.9260e-01, -9.9201e-01, -9.9160e-01,\n",
      "         -9.9119e-01, -9.9148e-01, -9.9148e-01, -9.9095e-01, -9.8825e-01,\n",
      "         -9.8695e-01, -9.8660e-01, -9.8654e-01, -9.8807e-01, -9.8901e-01,\n",
      "         -9.8836e-01, -9.8789e-01, -9.8690e-01, -9.8789e-01, -9.8578e-01,\n",
      "         -9.8590e-01, -9.8396e-01, -9.8413e-01, -9.8507e-01, -9.8525e-01,\n",
      "         -9.8548e-01, -9.8396e-01, -9.8102e-01, -9.8172e-01, -9.7779e-01,\n",
      "         -9.7796e-01, -9.7726e-01, -9.7796e-01, -9.7890e-01, -9.8008e-01],\n",
      "        [ 1.3311e-02, -4.9658e-03, -5.4359e-03,  7.0814e-03, -4.1430e-03,\n",
      "         -3.9080e-03, -3.8492e-03,  1.0255e-02,  1.8247e-02,  1.1254e-02,\n",
      "          9.6965e-04,  8.7856e-03,  1.5074e-02,  3.5554e-03,  1.3076e-02,\n",
      "          1.0020e-02,  3.5554e-03,  9.1382e-03,  1.0020e-02,  5.6710e-03,\n",
      "          1.2253e-02, -3.7904e-03, -2.1450e-03, -6.2586e-03, -5.6122e-03,\n",
      "         -9.9609e-03, -2.1450e-03,  1.2047e-03, -1.1459e-03, -5.5828e-04,\n",
      "          4.7895e-03,  5.5828e-04, -1.9687e-03, -5.3184e-03, -9.0207e-03,\n",
      "         -8.9619e-03, -1.8012e-02, -2.5475e-02, -3.1117e-02, -3.2468e-02,\n",
      "         -5.4359e-03,  2.0568e-04,  1.3546e-02,  1.6719e-02,  1.3781e-02,\n",
      "          1.4780e-02,  2.4711e-02,  2.2302e-02,  2.8884e-02,  2.6004e-02,\n",
      "          3.5701e-02,  3.8228e-02,  3.8933e-02,  4.3752e-02,  3.7640e-02,\n",
      "          4.0167e-02,  3.7052e-02,  3.2292e-02,  3.2939e-02,  4.0696e-02,\n",
      "          4.4809e-02,  6.1852e-02,  6.5084e-02,  7.3076e-02,  7.1548e-02,\n",
      "          8.0422e-02,  6.9374e-02,  7.4839e-02,  6.4437e-02,  6.7317e-02,\n",
      "          7.2430e-02,  6.8727e-02,  6.6436e-02,  6.8375e-02,  7.1666e-02,\n",
      "          6.0676e-02,  6.0383e-02,  5.5564e-02,  6.5613e-02,  7.3487e-02,\n",
      "          7.2430e-02,  7.7190e-02,  7.2782e-02,  7.2782e-02,  7.6543e-02,\n",
      "          7.3194e-02,  7.6250e-02,  7.1548e-02,  7.4487e-02,  6.9550e-02,\n",
      "          7.4428e-02,  7.0961e-02,  7.9482e-02,  9.1059e-02,  8.9648e-02,\n",
      "          8.7533e-02,  7.9188e-02,  7.9070e-02,  7.9599e-02,  8.0481e-02,\n",
      "          8.9707e-02,  8.7298e-02,  8.7356e-02,  8.9119e-02,  9.7112e-02,\n",
      "          1.0246e-01,  1.0986e-01,  1.1533e-01,  1.2250e-01,  1.2132e-01,\n",
      "          1.2350e-01,  1.3173e-01,  1.3049e-01,  1.3143e-01,  1.3319e-01,\n",
      "          1.3537e-01,  1.3161e-01,  1.5106e-01,  1.4219e-01,  1.4307e-01,\n",
      "          1.3889e-01,  1.3472e-01,  1.3214e-01,  1.3390e-01,  1.3878e-01,\n",
      "          1.3948e-01,  1.3413e-01,  1.4618e-01,  1.4342e-01,  1.3490e-01,\n",
      "          1.3337e-01,  1.1551e-01,  1.1874e-01,  1.1727e-01,  1.1627e-01,\n",
      "          1.1486e-01,  1.2485e-01,  1.2614e-01,  1.3055e-01,  1.2732e-01]])\n"
     ]
    }
   ],
   "source": [
    "print('inputs')\n",
    "print(x.shape)\n",
    "print(x)\n",
    "print('targets')\n",
    "print(y.shape)\n",
    "print(y)\n"
   ]
  },
  {
   "cell_type": "code",
   "execution_count": null,
   "metadata": {},
   "outputs": [],
   "source": []
  },
  {
   "cell_type": "code",
   "execution_count": null,
   "metadata": {},
   "outputs": [],
   "source": []
  }
 ],
 "metadata": {
  "kernelspec": {
   "display_name": "Python 3",
   "language": "python",
   "name": "python3"
  },
  "language_info": {
   "codemirror_mode": {
    "name": "ipython",
    "version": 3
   },
   "file_extension": ".py",
   "mimetype": "text/x-python",
   "name": "python",
   "nbconvert_exporter": "python",
   "pygments_lexer": "ipython3",
   "version": "3.10.9"
  },
  "orig_nbformat": 4,
  "vscode": {
   "interpreter": {
    "hash": "90ed70cbb2304de04bacdc18c61188717594e3d4c7e6e273e2c5104b72a78481"
   }
  }
 },
 "nbformat": 4,
 "nbformat_minor": 2
}
